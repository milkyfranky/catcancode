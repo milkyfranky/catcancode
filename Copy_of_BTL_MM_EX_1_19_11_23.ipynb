{
  "nbformat": 4,
  "nbformat_minor": 0,
  "metadata": {
    "colab": {
      "provenance": [],
      "include_colab_link": true
    },
    "kernelspec": {
      "name": "python3",
      "display_name": "Python 3"
    },
    "language_info": {
      "name": "python"
    }
  },
  "cells": [
    {
      "cell_type": "markdown",
      "metadata": {
        "id": "view-in-github",
        "colab_type": "text"
      },
      "source": [
        "<a href=\"https://colab.research.google.com/github/milkyfranky/catcancode/blob/main/Copy_of_BTL_MM_EX_1_19_11_23.ipynb\" target=\"_parent\"><img src=\"https://colab.research.google.com/assets/colab-badge.svg\" alt=\"Open In Colab\"/></a>"
      ]
    },
    {
      "cell_type": "markdown",
      "source": [
        "# INSTALLING NEEDED PACKAGES"
      ],
      "metadata": {
        "id": "QD29nkSecN27"
      }
    },
    {
      "cell_type": "code",
      "execution_count": null,
      "metadata": {
        "colab": {
          "base_uri": "https://localhost:8080/"
        },
        "id": "_4fOFbyZZLJF",
        "outputId": "85d19048-549f-448c-9fec-efe4db5404ea"
      },
      "outputs": [
        {
          "output_type": "stream",
          "name": "stdout",
          "text": [
            "Collecting gurobipy\n",
            "  Downloading gurobipy-10.0.3-cp310-cp310-manylinux2014_x86_64.whl (12.7 MB)\n",
            "\u001b[2K     \u001b[90m━━━━━━━━━━━━━━━━━━━━━━━━━━━━━━━━━━━━━━━━\u001b[0m \u001b[32m12.7/12.7 MB\u001b[0m \u001b[31m69.2 MB/s\u001b[0m eta \u001b[36m0:00:00\u001b[0m\n",
            "\u001b[?25hInstalling collected packages: gurobipy\n",
            "Successfully installed gurobipy-10.0.3\n"
          ]
        }
      ],
      "source": [
        "%pip install gurobipy"
      ]
    },
    {
      "cell_type": "code",
      "source": [
        "import numpy as np\n",
        "import gurobipy as gp\n",
        "from gurobipy import GRB\n",
        "import pandas as pd\n",
        "import matplotlib.pyplot as plt"
      ],
      "metadata": {
        "id": "YbhMaFvLZRhP"
      },
      "execution_count": null,
      "outputs": []
    },
    {
      "cell_type": "markdown",
      "source": [
        "# FIRST STAGE PROBLEM"
      ],
      "metadata": {
        "id": "98HvYx6icTk0"
      }
    },
    {
      "cell_type": "markdown",
      "source": [
        "$n = 8$: number of products <br>\n",
        "$m = 5$: number of parts to be orered before production <br>\n",
        "$i$: index of products, $i \\, = \\, 1, \\ ..., \\ n$ <br>\n",
        "$j$: index of parts, $j \\, = \\, 1, \\ ..., \\ m$ <br>\n",
        "$c_j$: ordering cost of a part <br>\n",
        "$l_i$: additional cost to satisfy a unit of demand for product $i$ <br>\n",
        "$q_i$: unit selling price of a product <br>\n",
        "$s_j$: salvage value of a part ($s_j < c_j$ ) <br>\n",
        "$a_{i,j}$: a units of product $i$ requires this number of part $j$, maybe 0 <br>\n",
        "$x_j$: number of parts for pre-order <br>\n",
        "$z_i$: number of units produced <br>\n",
        "$y_j$: number of parts left in inventory <br>\n",
        "$D = (D_1, \\, ..., \\, D_n)$: random vector of demand for the products <br>\n",
        "$d = (d_1, \\, ..., \\, d_n)$: observed value of demand for the products <br>\n",
        "<br>\n",
        "**FIRST STAGE PROBLEM**<br>\n",
        "\\begin{equation}\n",
        "\\sum_{x \\geq 0} c^{T}x \\, + \\,  \\text{E} [Q(x, \\, D)]\n",
        "\\end{equation}\n",
        "\n",
        "**SECOND STAGE PROBLEM**<br>\n",
        "\\begin{equation}\n",
        "\\text{Min}_{z,y} \\sum_{i=1}^{n} (l_i - q_i) z_i - \\sum_{j=1}^{m} s_j y_j\n",
        "\\end{equation}\n",
        "\n",
        "$\\underline{Constraints}$\n",
        "\\begin{equation}\n",
        "y_j = x_j - \\sum_{j=1}^{m} a_{ij} z_i\n",
        "\\end{equation}\n",
        "\\begin{equation}\n",
        "0 \\leq z_i \\leq d_i\n",
        "\\end{equation}\n",
        "\\begin{equation}\n",
        "y_j \\geq 0\n",
        "\\end{equation}\n",
        "\\begin{equation}\n",
        "x \\geq 0\n",
        "\\end{equation}\n",
        "\n",
        "**ONE LARGE SCALE LINEAR PROGRAMMING**<br>\n",
        "When finitely many demand scenarios $d^1, \\, ..., \\, d^K$ occuring with positive probabilities $p_1, \\, ..., \\, p_K$, with $\\sum_{k = 1}^{K} \\, p_k = 1$, we will have this one large scale linear programming problem as follow:\n",
        "\\begin{equation}\n",
        "\\text{Min} \\, \\, c^{T}x + \\, \\sum_{k = 1}^{K} \\, p_k \\, \\, [(l - q)^T z^k - s^T y^k]\n",
        "\\end{equation}\n",
        "\n",
        "$\\underline{Constraints}$\n",
        "\\begin{equation}\n",
        "y^k = x - A^T z^k\n",
        "\\end{equation}\n",
        "\\begin{equation}\n",
        "0 \\leq z^k \\leq d^k\n",
        "\\end{equation}\n",
        "\\begin{equation}\n",
        "y^k \\geq 0\n",
        "\\end{equation}\n",
        "\\begin{equation}\n",
        "x \\geq 0\n",
        "\\end{equation}\n",
        "\n",
        "\n",
        "Let $\\text{E} [Q(x, \\, d)]$ denote the optimal value of problem. <br>\n",
        "The Expectation is taken with respect to the probability distribution of the random demand vector D. <br>\n",
        "The first part of the objective function represents the *ordering cost*. <br>\n",
        "The second part represents the *expected cost of the optimal production plan*. <br>\n"
      ],
      "metadata": {
        "id": "N260S5LubFRw"
      }
    },
    {
      "cell_type": "markdown",
      "source": [
        "## Stimulate the data"
      ],
      "metadata": {
        "id": "jyHNQtRDcZFY"
      }
    },
    {
      "cell_type": "code",
      "source": [
        "n = 8\n",
        "m = 5\n",
        "S = 2\n",
        "np.random.seed(69)\n",
        "product_list = []\n",
        "part_list = []\n",
        "scenario_list = []\n",
        "for i in range(S):\n",
        "    nameScene = \"scen \" + str(i+1)\n",
        "    scenario_list.append(nameScene)\n",
        "\n",
        "for i in range(n):\n",
        "    nameProd = \"prod \" + str(i + 1)\n",
        "    product_list.append(nameProd)\n",
        "\n",
        "for i in range(m):\n",
        "    namePart = \"part \" + str(i + 1)\n",
        "    part_list.append(namePart)\n",
        "\n",
        "product_list = np.array(product_list)\n",
        "part_list = np.array(part_list)\n",
        "\n",
        "# c, l, q, s -> take simulated data.\n",
        "# ---------------------------------------------------------\n",
        "# PROBABILITY\n",
        "prob = np.random.binomial(10, 1/2, (S)) # create S random demand, value from 1 -> 10\n",
        "prob = prob / sum(prob) # divide by sum to get the probability based on the binomial distribution\n",
        "prob = np.array([0.5, 0.5])\n",
        "\n",
        "dict_prob = {\"prob\": prob}\n",
        "probTable = pd.DataFrame(dict_prob, index=scenario_list)\n",
        "print(\"Table of probability:\\n\", probTable)\n",
        "# ---------------------------------------------------------\n",
        "# ---------------------------------------------------------\n",
        "# DEMAND\n",
        "rng = np.random.default_rng()\n",
        "demand = np.random.randint(50, 100, size=(n,S))\n",
        "\n",
        "dict_demand = dict.fromkeys(scenario_list)\n",
        "for i in range(S):\n",
        "    dict_demand[scenario_list[i]] = demand[:,i]\n",
        "demandTable = pd.DataFrame(dict_demand, index=product_list)\n",
        "print(\"Table of demand:\\n\", demandTable)\n",
        "# ---------------------------------------------------------\n",
        "# ---------------------------------------------------------\n",
        "# PRE-ORDERING NUMBER OF PARTS\n",
        "# c: pre-ordering cost of parts, cost for ordering in the first stage\n",
        "pre_cost_part = np.random.randint(10, 20, size=m)\n",
        "\n",
        "dict_pre_cost = {\"pre-cost-part\": pre_cost_part}\n",
        "pre_cost_partTable = pd.DataFrame(dict_pre_cost, index=part_list)\n",
        "print(\"Table of pre cost parts:\\n\", pre_cost_partTable)\n",
        "# ---------------------------------------------------------\n",
        "# ---------------------------------------------------------\n",
        "# ADDITIONAL COST FOR PRODUCTS\n",
        "# l: additional cost to satisfy a unit\n",
        "additional_cost_prod = np.random.randint(100, 250, size=n)\n",
        "\n",
        "dict_add_cost = {\"add-cost-prod\": additional_cost_prod}\n",
        "add_cost_prodTable = pd.DataFrame(dict_add_cost, index=product_list)\n",
        "print(\"Table of additional products cost:\\n\", add_cost_prodTable)\n",
        "# ---------------------------------------------------------\n",
        "# ---------------------------------------------------------\n",
        "# UNIT SELLING PRICE FOR PRODUCTS\n",
        "# q: unit selling price\n",
        "price_prod = np.random.randint(500, 1500, size=n)\n",
        "\n",
        "dict_unit_sell_price = {\"unit selling price\": price_prod}\n",
        "unit_sell_price_prodTable = pd.DataFrame(dict_unit_sell_price, index=product_list)\n",
        "print(\"Table of unit selling price of products:\\n\", unit_sell_price_prodTable)\n",
        "# ---------------------------------------------------------\n",
        "# ---------------------------------------------------------\n",
        "# SALVAGE VALUES FOR PARTS\n",
        "# s: salvage values => this must be less than the ordering cost (s < c)\n",
        "salvage_val_part = np.random.randint(0, pre_cost_part, size=m)\n",
        "\n",
        "dict_salvage = {\"salvage value parts\": salvage_val_part}\n",
        "salvage_val_partTable = pd.DataFrame(dict_salvage, index=part_list)\n",
        "print(\"Table of salvage value of parts:\\n\", salvage_val_partTable)\n",
        "# ---------------------------------------------------------\n",
        "# ---------------------------------------------------------\n",
        "# MATRIX PRODUCTS REQUIREMENT\n",
        "# Matrix A: element a_{i,j} means that product i requires aij units of part j\n",
        "# This element must be in Z+\n",
        "A_prod_part = rng.integers(5, 15, size=(n, m))\n",
        "\n",
        "dict_prod_require_part = dict.fromkeys(part_list)\n",
        "for i in range(len(part_list)):\n",
        "    dict_prod_require_part[part_list[i]] = A_prod_part[:,i]\n",
        "prod_require_partTable = pd.DataFrame(dict_prod_require_part, index=product_list)\n",
        "print(\"Table of products requirement from parts:\\n\", prod_require_partTable)\n",
        "# ---------------------------------------------------------\n",
        "prod_require_partTable.plot.bar()"
      ],
      "metadata": {
        "colab": {
          "base_uri": "https://localhost:8080/",
          "height": 1000
        },
        "id": "F0tOmsq-ZbKf",
        "outputId": "a4ad473e-a0af-46f5-e6f3-b73ff1ec666a"
      },
      "execution_count": null,
      "outputs": [
        {
          "output_type": "stream",
          "name": "stdout",
          "text": [
            "Table of probability:\n",
            "         prob\n",
            "scen 1   0.5\n",
            "scen 2   0.5\n",
            "Table of demand:\n",
            "         scen 1  scen 2\n",
            "prod 1      76      70\n",
            "prod 2      99      72\n",
            "prod 3      59      83\n",
            "prod 4      88      82\n",
            "prod 5      74      62\n",
            "prod 6      87      92\n",
            "prod 7      61      53\n",
            "prod 8      66      89\n",
            "Table of pre cost parts:\n",
            "         pre-cost-part\n",
            "part 1             18\n",
            "part 2             12\n",
            "part 3             13\n",
            "part 4             17\n",
            "part 5             18\n",
            "Table of additional products cost:\n",
            "         add-cost-prod\n",
            "prod 1            221\n",
            "prod 2            190\n",
            "prod 3            175\n",
            "prod 4            144\n",
            "prod 5            135\n",
            "prod 6            242\n",
            "prod 7            249\n",
            "prod 8            169\n",
            "Table of unit selling price of products:\n",
            "         unit selling price\n",
            "prod 1                1344\n",
            "prod 2                 642\n",
            "prod 3                1123\n",
            "prod 4                1282\n",
            "prod 5                1359\n",
            "prod 6                1457\n",
            "prod 7                 619\n",
            "prod 8                1444\n",
            "Table of salvage value of parts:\n",
            "         salvage value parts\n",
            "part 1                   13\n",
            "part 2                    0\n",
            "part 3                   10\n",
            "part 4                   10\n",
            "part 5                   11\n",
            "Table of products requirement from parts:\n",
            "         part 1  part 2  part 3  part 4  part 5\n",
            "prod 1      11       8       9       8       9\n",
            "prod 2       6       5      14      14      11\n",
            "prod 3       7       6       9       7      14\n",
            "prod 4       7       9      12      11      14\n",
            "prod 5      11      10      10       5       7\n",
            "prod 6       6       8      10       6      13\n",
            "prod 7      13       9       5       7      11\n",
            "prod 8       5      10      10       7      10\n"
          ]
        },
        {
          "output_type": "execute_result",
          "data": {
            "text/plain": [
              "<Axes: >"
            ]
          },
          "metadata": {},
          "execution_count": 3
        },
        {
          "output_type": "display_data",
          "data": {
            "text/plain": [
              "<Figure size 640x480 with 1 Axes>"
            ],
            "image/png": "[encoded data removed]"
          },
          "metadata": {}
        }
      ]
    },
    {
      "cell_type": "code",
      "source": [
        "# np.random.seed(0)\n",
        "# df2 = pd.DataFrame(np.random.randn(10,4), columns=['A','B','C','D'])\n",
        "# df2"
      ],
      "metadata": {
        "id": "06OByi2cfrw9"
      },
      "execution_count": null,
      "outputs": []
    },
    {
      "cell_type": "markdown",
      "source": [
        "## Define first stage model, its constraints and objective function"
      ],
      "metadata": {
        "id": "NAciKjgBcce-"
      }
    },
    {
      "cell_type": "code",
      "source": [
        "# DEFINE THE FIRST STAGE MODEL\n",
        "model_first = gp.Model(\"First_stage_model\")\n",
        "model_first.ModelSense = 1 # minimize problem (if maximize, this value is -1)\n",
        "model_first.setParam('OutputFlag', 0)  # Telling gurobi to not be verbose\n",
        "#model_first.params.logtoconsole=0"
      ],
      "metadata": {
        "id": "IRPtPtZ2pUt6",
        "colab": {
          "base_uri": "https://localhost:8080/"
        },
        "outputId": "029cc6c8-f6bd-4853-871b-cc3b1bb5257d"
      },
      "execution_count": null,
      "outputs": [
        {
          "output_type": "stream",
          "name": "stdout",
          "text": [
            "Restricted license - for non-production use only - expires 2024-10-28\n"
          ]
        }
      ]
    },
    {
      "cell_type": "code",
      "source": [
        "# CONSTRAINTS\n",
        "# Add decision variable, type MVar\n",
        "# addMVar ( shape, lb=0.0, ub=float('inf'), obj=0.0, vtype=GRB.CONTINUOUS, name=\"\" )\n",
        "# You can use arithmetic operations with MVar objects to create linear matrix expressions\n",
        "# or quadratic matrix expressions, then be used to build linear or quadratic objectives or constraints.\n",
        "\n",
        "# First stage decision variable\n",
        "x_first = model_first.addMVar((m,), vtype = GRB.INTEGER, name = \"x_first\")\n",
        "\n",
        "# 2nd stage decision variables for each potential scenario\n",
        "y_first = model_first.addMVar((m,S), vtype = GRB.INTEGER, name = \"y_first\")\n",
        "z_first = model_first.addMVar((n,S), vtype = GRB.INTEGER, name = \"z_first\")\n",
        "# By default, the lower bound is 0\n",
        "\n",
        "# ADDING CONSTRAINTS\n",
        "model_first.addConstr(0 <= z_first)\n",
        "model_first.addConstr(0 <= y_first)\n",
        "model_first.addConstr(z_first <= demand)\n",
        "model_first.addConstrs(\n",
        "    y_first[:, k] == x_first - A_prod_part.T @ z_first[:, k] for k in range(S)\n",
        ")\n",
        "\n",
        "objective = pre_cost_part @ x_first + gp.quicksum(\n",
        "                gp.quicksum(\n",
        "                    (additional_cost_prod[i] - price_prod[i]) * z_first[i, k] for i in range(n)) -\n",
        "                    gp.quicksum(salvage_val_part[j] * y_first[j, k] for j in range(m)\n",
        "                ) * prob[k] for k in range(S)\n",
        "            )\n",
        "model_first.setObjective(objective)"
      ],
      "metadata": {
        "id": "z0zv4ecAv5iL"
      },
      "execution_count": null,
      "outputs": []
    },
    {
      "cell_type": "markdown",
      "source": [
        "## First stage solving"
      ],
      "metadata": {
        "id": "bb2utZ8EciAm"
      }
    },
    {
      "cell_type": "code",
      "source": [
        "# SOLVING\n",
        "model_first.optimize()\n",
        "print(\"The optimal value at the first stage is:\", -model_first.ObjVal)\n",
        "print(\"The number of pre-ordering parts:\", x_first.x)"
      ],
      "metadata": {
        "colab": {
          "base_uri": "https://localhost:8080/"
        },
        "id": "I8pJnwGc6sQd",
        "outputId": "eae6eca5-7e27-40e7-9df6-21768769152d"
      },
      "execution_count": null,
      "outputs": [
        {
          "output_type": "stream",
          "name": "stdout",
          "text": [
            "The optimal value at the first stage is: 757673.5\n",
            "The number of pre-ordering parts: [4905. 4885. 6227. 5149. 6835.]\n"
          ]
        }
      ]
    },
    {
      "cell_type": "code",
      "source": [
        "print(x_first.x)\n",
        "print(y_first.x)\n",
        "print(z_first.x)"
      ],
      "metadata": {
        "colab": {
          "base_uri": "https://localhost:8080/"
        },
        "id": "g3CiNoBPA-YU",
        "outputId": "c0cf0a19-9bb4-42bb-f051-b75f8a9c37a3"
      },
      "execution_count": null,
      "outputs": [
        {
          "output_type": "stream",
          "name": "stdout",
          "text": [
            "[4905. 4885. 6227. 5149. 6835.]\n",
            "[[  0. 180.]\n",
            " [  0.   6.]\n",
            " [  0. 163.]\n",
            " [  0. 242.]\n",
            " [ 35.   0.]]\n",
            "[[76. 70.]\n",
            " [99. 72.]\n",
            " [59. 83.]\n",
            " [88. 82.]\n",
            " [74. 62.]\n",
            " [87. 92.]\n",
            " [60. 53.]\n",
            " [66. 89.]]\n"
          ]
        }
      ]
    },
    {
      "cell_type": "markdown",
      "source": [
        "# SECOND STAGE PROBLEM"
      ],
      "metadata": {
        "id": "LICFmzO7cmhs"
      }
    },
    {
      "cell_type": "markdown",
      "source": [
        "## Define second stage model, its observing demand, the constraints and objective value"
      ],
      "metadata": {
        "id": "VJM-W047cqJD"
      }
    },
    {
      "cell_type": "code",
      "source": [
        "# NOW CONSIDER THE SECOND STAGE PROBLEM\n",
        "# ASSUME THAT HERE IS THE OBSERVED DEMAND\n",
        "observed_demand = np.random.randint(50, 100, size=n)\n",
        "print(\"Observed demand:\", observed_demand)\n",
        "\n",
        "# Store the pre-ordering number of parts from stage 1\n",
        "store_x = x_first.x\n",
        "\n",
        "model_second = gp.Model(\"second_stage_model\")\n",
        "model_second.ModelSense = 1 # minimize problem (if maximize, this value is -1)\n",
        "model_second.setParam('OutputFlag', 0)  # Telling gurobi to not be verbose\n",
        "\n",
        "y_second = model_second.addMVar((m,), vtype = GRB.INTEGER, name = \"y_second\")\n",
        "z_second = model_second.addMVar((n,), vtype = GRB.INTEGER, name = \"z_second\")\n",
        "# By default, the lower bound is 0\n",
        "\n",
        "# ADDING CONSTRAINTS\n",
        "model_second.addConstr(0 <= z_second)\n",
        "model_second.addConstr(0 <= y_second)\n",
        "model_second.addConstr(z_second <= observed_demand.T)\n",
        "model_second.addConstr(\n",
        "    y_second[:] == store_x.T - A_prod_part.T @ z_second[:]\n",
        ")\n",
        "\n",
        "objective_second = gp.quicksum((additional_cost_prod[i] - price_prod[i]) * z_second[i] for i in range(n)) - gp.quicksum(salvage_val_part[j] * y_second[j] for j in range(m))\n",
        "model_second.setObjective(objective_second)"
      ],
      "metadata": {
        "colab": {
          "base_uri": "https://localhost:8080/"
        },
        "id": "NmjCqVE2BPsO",
        "outputId": "d97a5f0d-e6b1-4cb2-e7b4-a1f72dd39661"
      },
      "execution_count": null,
      "outputs": [
        {
          "output_type": "stream",
          "name": "stdout",
          "text": [
            "Observed demand: [64 99 68 87 94 74 64 79]\n"
          ]
        }
      ]
    },
    {
      "cell_type": "markdown",
      "source": [
        "## Second stage solving"
      ],
      "metadata": {
        "id": "NFyNlA7Scw7s"
      }
    },
    {
      "cell_type": "code",
      "source": [
        "# SOLVING\n",
        "model_second.optimize()\n",
        "print(\"The optimal value at the second stage is:\", -model_second.ObjVal)\n",
        "print(\"The number of parts left in the inventory:\", y_second.x)\n",
        "print(\"The number of units products produced:\", z_second.x)"
      ],
      "metadata": {
        "colab": {
          "base_uri": "https://localhost:8080/"
        },
        "id": "bfVD9QyzEQ2q",
        "outputId": "a3b3ce02-c869-4967-aba7-a9c4648d3aa8"
      },
      "execution_count": null,
      "outputs": [
        {
          "output_type": "stream",
          "name": "stdout",
          "text": [
            "The optimal value at the second stage is: 608281.0\n",
            "The number of parts left in the inventory: [1243.  860. 1525. 1737. 1679.]\n",
            "The number of units products produced: [64. -0. 68. 87. 94. 74. -0. 79.]\n"
          ]
        }
      ]
    }
  ]
}